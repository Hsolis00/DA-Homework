{
 "cells": [
  {
   "cell_type": "code",
   "execution_count": 1,
   "metadata": {
    "collapsed": true
   },
   "outputs": [],
   "source": [
    "# Import Dependencies\n",
    "import pandas as pd\n",
    "import numpy as np"
   ]
  },
  {
   "cell_type": "code",
   "execution_count": 2,
   "metadata": {},
   "outputs": [],
   "source": [
    "# Files to Load\n",
    "clean_hawaii_measurements_load = \"clean_hawaii_measurements.csv\"\n",
    "clean_hawaii_stations_load = \"clean_hawaii_stations.csv\"\n",
    "\n",
    "# Read measurements and stations Data File and store into Pandas Data Frames\n",
    "hawaii_measurements_df = pd.read_csv(clean_hawaii_measurements_load)\n",
    "hawaii_stations_df = pd.read_csv(clean_hawaii_stations_load)"
   ]
  },
  {
   "cell_type": "code",
   "execution_count": 3,
   "metadata": {
    "collapsed": true
   },
   "outputs": [],
   "source": [
    "# Python SQL toolkit and Object Relational Mapper\n",
    "import sqlalchemy\n",
    "from sqlalchemy import create_engine, MetaData, inspect\n",
    "from sqlalchemy.ext.declarative import declarative_base\n",
    "from sqlalchemy import Column, Integer, String, Numeric, Text, Float, DateTime\n",
    "from sqlalchemy.orm import Session"
   ]
  },
  {
   "cell_type": "code",
   "execution_count": 4,
   "metadata": {},
   "outputs": [
    {
     "name": "stdout",
     "output_type": "stream",
     "text": [
      "2018-04-03 22:19:47,999 INFO sqlalchemy.engine.base.Engine SELECT CAST('test plain returns' AS VARCHAR(60)) AS anon_1\n",
      "2018-04-03 22:19:48,002 INFO sqlalchemy.engine.base.Engine ()\n",
      "2018-04-03 22:19:48,006 INFO sqlalchemy.engine.base.Engine SELECT CAST('test unicode returns' AS VARCHAR(60)) AS anon_1\n",
      "2018-04-03 22:19:48,011 INFO sqlalchemy.engine.base.Engine ()\n"
     ]
    }
   ],
   "source": [
    "# Create an engine to a database file called `hawaii.sqlite`\n",
    "engine = create_engine(\"sqlite:///hawaii.sqlite\", echo=True)\n",
    "\n",
    "# Create a connection to the engine called `conn`\n",
    "conn = engine.connect()"
   ]
  },
  {
   "cell_type": "code",
   "execution_count": 5,
   "metadata": {},
   "outputs": [
    {
     "name": "stdout",
     "output_type": "stream",
     "text": [
      "2018-04-03 22:19:53,123 INFO sqlalchemy.engine.base.Engine PRAGMA table_info(\"measurement\")\n",
      "2018-04-03 22:19:53,127 INFO sqlalchemy.engine.base.Engine ()\n",
      "2018-04-03 22:19:53,132 INFO sqlalchemy.engine.base.Engine PRAGMA table_info(\"station\")\n",
      "2018-04-03 22:19:53,134 INFO sqlalchemy.engine.base.Engine ()\n",
      "2018-04-03 22:19:53,139 INFO sqlalchemy.engine.base.Engine \n",
      "CREATE TABLE measurement (\n",
      "\tstation TEXT NOT NULL, \n",
      "\tdate TEXT NOT NULL, \n",
      "\tprcp FLOAT, \n",
      "\ttobs INTEGER, \n",
      "\tPRIMARY KEY (station, date)\n",
      ")\n",
      "\n",
      "\n",
      "2018-04-03 22:19:53,142 INFO sqlalchemy.engine.base.Engine ()\n",
      "2018-04-03 22:19:53,147 INFO sqlalchemy.engine.base.Engine COMMIT\n",
      "2018-04-03 22:19:53,150 INFO sqlalchemy.engine.base.Engine \n",
      "CREATE TABLE station (\n",
      "\tstation TEXT NOT NULL, \n",
      "\tname TEXT, \n",
      "\tlatitude FLOAT, \n",
      "\tlongitude FLOAT, \n",
      "\televation FLOAT, \n",
      "\tPRIMARY KEY (station)\n",
      ")\n",
      "\n",
      "\n",
      "2018-04-03 22:19:53,176 INFO sqlalchemy.engine.base.Engine ()\n",
      "2018-04-03 22:19:53,184 INFO sqlalchemy.engine.base.Engine COMMIT\n"
     ]
    }
   ],
   "source": [
    "# Use `declarative_base` from SQLAlchemy to model the demographics table as an ORM class\n",
    "Base = declarative_base()\n",
    "\n",
    "class Measurement(Base):\n",
    "    __tablename__ = 'measurement'\n",
    "\n",
    "    station = Column(Text, primary_key=True)\n",
    "    date = Column(Text, primary_key=True)\n",
    "    prcp = Column(Float)\n",
    "    tobs = Column(Integer)\n",
    "    \n",
    "class Station(Base):\n",
    "    __tablename__ = 'station'\n",
    "\n",
    "    station = Column(Text, primary_key=True)\n",
    "    name = Column(Text)\n",
    "    latitude = Column(Float)\n",
    "    longitude = Column(Float)\n",
    "    elevation = Column(Float)\n",
    "\n",
    "# Use `create_all` to create the tables in the database\n",
    "Base.metadata.create_all(engine)\n",
    "\n",
    "session = Session(bind=engine)"
   ]
  },
  {
   "cell_type": "code",
   "execution_count": 6,
   "metadata": {},
   "outputs": [
    {
     "data": {
      "text/plain": [
       "{'elevation': 3.0,\n",
       " 'latitude': 21.2716,\n",
       " 'longitude': -157.8168,\n",
       " 'name': 'WAIKIKI 717.2, HI US',\n",
       " 'station': 'USC00519397'}"
      ]
     },
     "execution_count": 6,
     "metadata": {},
     "output_type": "execute_result"
    }
   ],
   "source": [
    "# Use Orient='records' to create a list of data to write\n",
    "measurement_data = hawaii_measurements_df.to_dict(orient='records')\n",
    "measurement_data[0]\n",
    "\n",
    "stations_data = hawaii_stations_df.to_dict(orient='records')\n",
    "stations_data[0]"
   ]
  },
  {
   "cell_type": "code",
   "execution_count": 7,
   "metadata": {},
   "outputs": [
    {
     "name": "stdout",
     "output_type": "stream",
     "text": [
      "2018-04-03 22:20:19,942 INFO sqlalchemy.engine.base.Engine SELECT name FROM sqlite_master WHERE type='table' ORDER BY name\n",
      "2018-04-03 22:20:19,946 INFO sqlalchemy.engine.base.Engine ()\n",
      "2018-04-03 22:20:19,951 INFO sqlalchemy.engine.base.Engine PRAGMA table_info(\"measurement\")\n",
      "2018-04-03 22:20:19,954 INFO sqlalchemy.engine.base.Engine ()\n",
      "2018-04-03 22:20:19,959 INFO sqlalchemy.engine.base.Engine SELECT sql FROM  (SELECT * FROM sqlite_master UNION ALL   SELECT * FROM sqlite_temp_master) WHERE name = 'measurement' AND type = 'table'\n",
      "2018-04-03 22:20:19,962 INFO sqlalchemy.engine.base.Engine ()\n",
      "2018-04-03 22:20:19,965 INFO sqlalchemy.engine.base.Engine PRAGMA foreign_key_list(\"measurement\")\n",
      "2018-04-03 22:20:19,968 INFO sqlalchemy.engine.base.Engine ()\n",
      "2018-04-03 22:20:19,970 INFO sqlalchemy.engine.base.Engine SELECT sql FROM  (SELECT * FROM sqlite_master UNION ALL   SELECT * FROM sqlite_temp_master) WHERE name = 'measurement' AND type = 'table'\n",
      "2018-04-03 22:20:19,973 INFO sqlalchemy.engine.base.Engine ()\n",
      "2018-04-03 22:20:19,980 INFO sqlalchemy.engine.base.Engine PRAGMA index_list(\"measurement\")\n",
      "2018-04-03 22:20:19,983 INFO sqlalchemy.engine.base.Engine ()\n",
      "2018-04-03 22:20:19,985 INFO sqlalchemy.engine.base.Engine PRAGMA index_list(\"measurement\")\n",
      "2018-04-03 22:20:19,989 INFO sqlalchemy.engine.base.Engine ()\n",
      "2018-04-03 22:20:19,992 INFO sqlalchemy.engine.base.Engine PRAGMA index_info(\"sqlite_autoindex_measurement_1\")\n",
      "2018-04-03 22:20:19,994 INFO sqlalchemy.engine.base.Engine ()\n",
      "2018-04-03 22:20:19,997 INFO sqlalchemy.engine.base.Engine SELECT sql FROM  (SELECT * FROM sqlite_master UNION ALL   SELECT * FROM sqlite_temp_master) WHERE name = 'measurement' AND type = 'table'\n",
      "2018-04-03 22:20:20,000 INFO sqlalchemy.engine.base.Engine ()\n",
      "2018-04-03 22:20:20,012 INFO sqlalchemy.engine.base.Engine PRAGMA table_info(\"station\")\n",
      "2018-04-03 22:20:20,014 INFO sqlalchemy.engine.base.Engine ()\n",
      "2018-04-03 22:20:20,018 INFO sqlalchemy.engine.base.Engine SELECT sql FROM  (SELECT * FROM sqlite_master UNION ALL   SELECT * FROM sqlite_temp_master) WHERE name = 'station' AND type = 'table'\n",
      "2018-04-03 22:20:20,020 INFO sqlalchemy.engine.base.Engine ()\n",
      "2018-04-03 22:20:20,029 INFO sqlalchemy.engine.base.Engine PRAGMA foreign_key_list(\"station\")\n",
      "2018-04-03 22:20:20,032 INFO sqlalchemy.engine.base.Engine ()\n",
      "2018-04-03 22:20:20,034 INFO sqlalchemy.engine.base.Engine SELECT sql FROM  (SELECT * FROM sqlite_master UNION ALL   SELECT * FROM sqlite_temp_master) WHERE name = 'station' AND type = 'table'\n",
      "2018-04-03 22:20:20,037 INFO sqlalchemy.engine.base.Engine ()\n",
      "2018-04-03 22:20:20,047 INFO sqlalchemy.engine.base.Engine PRAGMA index_list(\"station\")\n",
      "2018-04-03 22:20:20,062 INFO sqlalchemy.engine.base.Engine ()\n",
      "2018-04-03 22:20:20,068 INFO sqlalchemy.engine.base.Engine PRAGMA index_list(\"station\")\n",
      "2018-04-03 22:20:20,073 INFO sqlalchemy.engine.base.Engine ()\n",
      "2018-04-03 22:20:20,082 INFO sqlalchemy.engine.base.Engine PRAGMA index_info(\"sqlite_autoindex_station_1\")\n",
      "2018-04-03 22:20:20,088 INFO sqlalchemy.engine.base.Engine ()\n",
      "2018-04-03 22:20:20,093 INFO sqlalchemy.engine.base.Engine SELECT sql FROM  (SELECT * FROM sqlite_master UNION ALL   SELECT * FROM sqlite_temp_master) WHERE name = 'station' AND type = 'table'\n",
      "2018-04-03 22:20:20,095 INFO sqlalchemy.engine.base.Engine ()\n"
     ]
    }
   ],
   "source": [
    "# Use MetaData from SQLAlchemy to reflect the tables\n",
    "metadata = MetaData(bind=engine)\n",
    "metadata.reflect()"
   ]
  },
  {
   "cell_type": "code",
   "execution_count": 8,
   "metadata": {
    "collapsed": true
   },
   "outputs": [],
   "source": [
    "# Save the reference to the `measurement` table as a variable called `table`\n",
    "measurement_table = sqlalchemy.Table('measurement', metadata, autoload=True)\n",
    "station_table = sqlalchemy.Table('station', metadata, autoload=True)"
   ]
  },
  {
   "cell_type": "code",
   "execution_count": 13,
   "metadata": {},
   "outputs": [
    {
     "name": "stdout",
     "output_type": "stream",
     "text": [
      "2018-04-03 22:26:08,322 INFO sqlalchemy.engine.base.Engine INSERT INTO measurement (station, date, prcp, tobs) VALUES (?, ?, ?, ?)\n",
      "2018-04-03 22:26:08,326 INFO sqlalchemy.engine.base.Engine (('USC00519397', '2010-01-01', 0.08, 65), ('USC00519397', '2010-01-02', 0.0, 63), ('USC00519397', '2010-01-03', 0.0, 74), ('USC00519397', '2010-01-04', 0.0, 76), ('USC00519397', '2010-01-06', 0.0, 73), ('USC00519397', '2010-01-07', 0.06, 70), ('USC00519397', '2010-01-08', 0.0, 64), ('USC00519397', '2010-01-09', 0.0, 68)  ... displaying 10 of 19550 total bound parameter sets ...  ('USC00516128', '2017-08-22', 0.5, 76), ('USC00516128', '2017-08-23', 0.45, 76))\n",
      "2018-04-03 22:26:08,466 INFO sqlalchemy.engine.base.Engine COMMIT\n",
      "2018-04-03 22:26:08,491 INFO sqlalchemy.engine.base.Engine INSERT INTO station (station, name, latitude, longitude, elevation) VALUES (?, ?, ?, ?, ?)\n",
      "2018-04-03 22:26:08,502 INFO sqlalchemy.engine.base.Engine (('USC00519397', 'WAIKIKI 717.2, HI US', 21.2716, -157.8168, 3.0), ('USC00513117', 'KANEOHE 838.1, HI US', 21.4234, -157.8015, 14.6), ('USC00514830', 'KUALOA RANCH HEADQUARTERS 886.9, HI US', 21.5213, -157.8374, 7.0), ('USC00517948', 'PEARL CITY, HI US', 21.3934, -157.9751, 11.9), ('USC00518838', 'UPPER WAHIAWA 874.3, HI US', 21.4992, -158.0111, 306.6), ('USC00519523', 'WAIMANALO EXPERIMENTAL FARM, HI US', 21.33556, -157.71139, 19.5), ('USC00519281', 'WAIHEE 837.5, HI US', 21.45167, -157.84888999999995, 32.9), ('USC00511918', 'HONOLULU OBSERVATORY 702.2, HI US', 21.3152, -157.9992, 0.9), ('USC00516128', 'MANOA LYON ARBO 785.2, HI US', 21.3331, -157.8025, 152.4))\n",
      "2018-04-03 22:26:08,514 INFO sqlalchemy.engine.base.Engine COMMIT\n"
     ]
    },
    {
     "data": {
      "text/plain": [
       "<sqlalchemy.engine.result.ResultProxy at 0x113791438>"
      ]
     },
     "execution_count": 13,
     "metadata": {},
     "output_type": "execute_result"
    }
   ],
   "source": [
    "# Use `table.insert()` to insert the data into the table\n",
    "conn.execute(measurement_table.insert(), measurement_data)\n",
    "conn.execute(station_table.insert(), stations_data)"
   ]
  },
  {
   "cell_type": "code",
   "execution_count": 15,
   "metadata": {},
   "outputs": [
    {
     "name": "stdout",
     "output_type": "stream",
     "text": [
      "2018-04-03 22:28:53,157 INFO sqlalchemy.engine.base.Engine select * from measurement limit 5\n",
      "2018-04-03 22:28:53,161 INFO sqlalchemy.engine.base.Engine ()\n",
      "2018-04-03 22:28:53,165 INFO sqlalchemy.engine.base.Engine select * from station limit 5\n",
      "2018-04-03 22:28:53,167 INFO sqlalchemy.engine.base.Engine ()\n"
     ]
    },
    {
     "data": {
      "text/plain": [
       "[('USC00519397', 'WAIKIKI 717.2, HI US', 21.2716, -157.8168, 3.0),\n",
       " ('USC00513117', 'KANEOHE 838.1, HI US', 21.4234, -157.8015, 14.6),\n",
       " ('USC00514830', 'KUALOA RANCH HEADQUARTERS 886.9, HI US', 21.5213, -157.8374, 7.0),\n",
       " ('USC00517948', 'PEARL CITY, HI US', 21.3934, -157.9751, 11.9),\n",
       " ('USC00518838', 'UPPER WAHIAWA 874.3, HI US', 21.4992, -158.0111, 306.6)]"
      ]
     },
     "execution_count": 15,
     "metadata": {},
     "output_type": "execute_result"
    }
   ],
   "source": [
    "conn.execute(\"select * from measurement limit 5\").fetchall()\n",
    "conn.execute(\"select * from station limit 5\").fetchall()"
   ]
  },
  {
   "cell_type": "code",
   "execution_count": null,
   "metadata": {
    "collapsed": true
   },
   "outputs": [],
   "source": []
  }
 ],
 "metadata": {
  "kernelspec": {
   "display_name": "Python 3",
   "language": "python",
   "name": "python3"
  },
  "language_info": {
   "codemirror_mode": {
    "name": "ipython",
    "version": 3
   },
   "file_extension": ".py",
   "mimetype": "text/x-python",
   "name": "python",
   "nbconvert_exporter": "python",
   "pygments_lexer": "ipython3",
   "version": "3.6.3"
  }
 },
 "nbformat": 4,
 "nbformat_minor": 2
}
